{
  "metadata": {
    "kernelspec": {
      "language": "python",
      "display_name": "Python 3",
      "name": "python3"
    },
    "language_info": {
      "name": "python",
      "version": "3.7.10",
      "mimetype": "text/x-python",
      "codemirror_mode": {
        "name": "ipython",
        "version": 3
      },
      "pygments_lexer": "ipython3",
      "nbconvert_exporter": "python",
      "file_extension": ".py"
    },
    "colab": {
      "provenance": []
    }
  },
  "nbformat_minor": 0,
  "nbformat": 4,
  "cells": [
    {
      "cell_type": "code",
      "source": [
        "from plotly.offline import init_notebook_mode\n",
        "init_notebook_mode(connected=True) "
      ],
      "metadata": {
        "papermill": {
          "duration": 0.09835,
          "end_time": "2021-06-04T14:14:07.706485",
          "exception": false,
          "start_time": "2021-06-04T14:14:07.608135",
          "status": "completed"
        },
        "tags": [],
        "execution": {
          "iopub.status.busy": "2021-06-07T05:29:52.335074Z",
          "iopub.execute_input": "2021-06-07T05:29:52.335588Z",
          "iopub.status.idle": "2021-06-07T05:29:52.361936Z",
          "shell.execute_reply.started": "2021-06-07T05:29:52.335481Z",
          "shell.execute_reply": "2021-06-07T05:29:52.360951Z"
        },
        "trusted": true,
        "id": "sMHWdNizTKTq"
      },
      "execution_count": null,
      "outputs": []
    },
    {
      "cell_type": "code",
      "source": [
        "import json\n",
        "\n",
        "# https://arxiv.org/help/api/user-manual\n",
        "category_map = {'astro-ph': 'Astrophysics',\n",
        "'astro-ph.CO': 'Cosmology and Nongalactic Astrophysics',\n",
        "'astro-ph.EP': 'Earth and Planetary Astrophysics',\n",
        "'astro-ph.GA': 'Astrophysics of Galaxies',\n",
        "'astro-ph.HE': 'High Energy Astrophysical Phenomena',\n",
        "'astro-ph.IM': 'Instrumentation and Methods for Astrophysics',\n",
        "'astro-ph.SR': 'Solar and Stellar Astrophysics',\n",
        "'cond-mat.dis-nn': 'Disordered Systems and Neural Networks',\n",
        "'cond-mat.mes-hall': 'Mesoscale and Nanoscale Physics',\n",
        "'cond-mat.mtrl-sci': 'Materials Science',\n",
        "'cond-mat.other': 'Other Condensed Matter',\n",
        "'cond-mat.quant-gas': 'Quantum Gases',\n",
        "'cond-mat.soft': 'Soft Condensed Matter',\n",
        "'cond-mat.stat-mech': 'Statistical Mechanics',\n",
        "'cond-mat.str-el': 'Strongly Correlated Electrons',\n",
        "'cond-mat.supr-con': 'Superconductivity',\n",
        "'cs.AI': 'Artificial Intelligence',\n",
        "'cs.AR': 'Hardware Architecture',\n",
        "'cs.CC': 'Computational Complexity',\n",
        "'cs.CE': 'Computational Engineering, Finance, and Science',\n",
        "'cs.CG': 'Computational Geometry',\n",
        "'cs.CL': 'Computation and Language',\n",
        "'cs.CR': 'Cryptography and Security',\n",
        "'cs.CV': 'Computer Vision and Pattern Recognition',\n",
        "'cs.CY': 'Computers and Society',\n",
        "'cs.DB': 'Databases',\n",
        "'cs.DC': 'Distributed, Parallel, and Cluster Computing',\n",
        "'cs.DL': 'Digital Libraries',\n",
        "'cs.DM': 'Discrete Mathematics',\n",
        "'cs.DS': 'Data Structures and Algorithms',\n",
        "'cs.ET': 'Emerging Technologies',\n",
        "'cs.FL': 'Formal Languages and Automata Theory',\n",
        "'cs.GL': 'General Literature',\n",
        "'cs.GR': 'Graphics',\n",
        "'cs.GT': 'Computer Science and Game Theory',\n",
        "'cs.HC': 'Human-Computer Interaction',\n",
        "'cs.IR': 'Information Retrieval',\n",
        "'cs.IT': 'Information Theory',\n",
        "'cs.LG': 'Machine Learning',\n",
        "'cs.LO': 'Logic in Computer Science',\n",
        "'cs.MA': 'Multiagent Systems',\n",
        "'cs.MM': 'Multimedia',\n",
        "'cs.MS': 'Mathematical Software',\n",
        "'cs.NA': 'Numerical Analysis',\n",
        "'cs.NE': 'Neural and Evolutionary Computing',\n",
        "'cs.NI': 'Networking and Internet Architecture',\n",
        "'cs.OH': 'Other Computer Science',\n",
        "'cs.OS': 'Operating Systems',\n",
        "'cs.PF': 'Performance',\n",
        "'cs.PL': 'Programming Languages',\n",
        "'cs.RO': 'Robotics',\n",
        "'cs.SC': 'Symbolic Computation',\n",
        "'cs.SD': 'Sound',\n",
        "'cs.SE': 'Software Engineering',\n",
        "'cs.SI': 'Social and Information Networks',\n",
        "'cs.SY': 'Systems and Control',\n",
        "'econ.EM': 'Econometrics',\n",
        "'eess.AS': 'Audio and Speech Processing',\n",
        "'eess.IV': 'Image and Video Processing',\n",
        "'eess.SP': 'Signal Processing',\n",
        "'gr-qc': 'General Relativity and Quantum Cosmology',\n",
        "'hep-ex': 'High Energy Physics - Experiment',\n",
        "'hep-lat': 'High Energy Physics - Lattice',\n",
        "'hep-ph': 'High Energy Physics - Phenomenology',\n",
        "'hep-th': 'High Energy Physics - Theory',\n",
        "'math.AC': 'Commutative Algebra',\n",
        "'math.AG': 'Algebraic Geometry',\n",
        "'math.AP': 'Analysis of PDEs',\n",
        "'math.AT': 'Algebraic Topology',\n",
        "'math.CA': 'Classical Analysis and ODEs',\n",
        "'math.CO': 'Combinatorics',\n",
        "'math.CT': 'Category Theory',\n",
        "'math.CV': 'Complex Variables',\n",
        "'math.DG': 'Differential Geometry',\n",
        "'math.DS': 'Dynamical Systems',\n",
        "'math.FA': 'Functional Analysis',\n",
        "'math.GM': 'General Mathematics',\n",
        "'math.GN': 'General Topology',\n",
        "'math.GR': 'Group Theory',\n",
        "'math.GT': 'Geometric Topology',\n",
        "'math.HO': 'History and Overview',\n",
        "'math.IT': 'Information Theory',\n",
        "'math.KT': 'K-Theory and Homology',\n",
        "'math.LO': 'Logic',\n",
        "'math.MG': 'Metric Geometry',\n",
        "'math.MP': 'Mathematical Physics',\n",
        "'math.NA': 'Numerical Analysis',\n",
        "'math.NT': 'Number Theory',\n",
        "'math.OA': 'Operator Algebras',\n",
        "'math.OC': 'Optimization and Control',\n",
        "'math.PR': 'Probability',\n",
        "'math.QA': 'Quantum Algebra',\n",
        "'math.RA': 'Rings and Algebras',\n",
        "'math.RT': 'Representation Theory',\n",
        "'math.SG': 'Symplectic Geometry',\n",
        "'math.SP': 'Spectral Theory',\n",
        "'math.ST': 'Statistics Theory',\n",
        "'math-ph': 'Mathematical Physics',\n",
        "'nlin.AO': 'Adaptation and Self-Organizing Systems',\n",
        "'nlin.CD': 'Chaotic Dynamics',\n",
        "'nlin.CG': 'Cellular Automata and Lattice Gases',\n",
        "'nlin.PS': 'Pattern Formation and Solitons',\n",
        "'nlin.SI': 'Exactly Solvable and Integrable Systems',\n",
        "'nucl-ex': 'Nuclear Experiment',\n",
        "'nucl-th': 'Nuclear Theory',\n",
        "'physics.acc-ph': 'Accelerator Physics',\n",
        "'physics.ao-ph': 'Atmospheric and Oceanic Physics',\n",
        "'physics.app-ph': 'Applied Physics',\n",
        "'physics.atm-clus': 'Atomic and Molecular Clusters',\n",
        "'physics.atom-ph': 'Atomic Physics',\n",
        "'physics.bio-ph': 'Biological Physics',\n",
        "'physics.chem-ph': 'Chemical Physics',\n",
        "'physics.class-ph': 'Classical Physics',\n",
        "'physics.comp-ph': 'Computational Physics',\n",
        "'physics.data-an': 'Data Analysis, Statistics and Probability',\n",
        "'physics.ed-ph': 'Physics Education',\n",
        "'physics.flu-dyn': 'Fluid Dynamics',\n",
        "'physics.gen-ph': 'General Physics',\n",
        "'physics.geo-ph': 'Geophysics',\n",
        "'physics.hist-ph': 'History and Philosophy of Physics',\n",
        "'physics.ins-det': 'Instrumentation and Detectors',\n",
        "'physics.med-ph': 'Medical Physics',\n",
        "'physics.optics': 'Optics',\n",
        "'physics.plasm-ph': 'Plasma Physics',\n",
        "'physics.pop-ph': 'Popular Physics',\n",
        "'physics.soc-ph': 'Physics and Society',\n",
        "'physics.space-ph': 'Space Physics',\n",
        "'q-bio.BM': 'Biomolecules',\n",
        "'q-bio.CB': 'Cell Behavior',\n",
        "'q-bio.GN': 'Genomics',\n",
        "'q-bio.MN': 'Molecular Networks',\n",
        "'q-bio.NC': 'Neurons and Cognition',\n",
        "'q-bio.OT': 'Other Quantitative Biology',\n",
        "'q-bio.PE': 'Populations and Evolution',\n",
        "'q-bio.QM': 'Quantitative Methods',\n",
        "'q-bio.SC': 'Subcellular Processes',\n",
        "'q-bio.TO': 'Tissues and Organs',\n",
        "'q-fin.CP': 'Computational Finance',\n",
        "'q-fin.EC': 'Economics',\n",
        "'q-fin.GN': 'General Finance',\n",
        "'q-fin.MF': 'Mathematical Finance',\n",
        "'q-fin.PM': 'Portfolio Management',\n",
        "'q-fin.PR': 'Pricing of Securities',\n",
        "'q-fin.RM': 'Risk Management',\n",
        "'q-fin.ST': 'Statistical Finance',\n",
        "'q-fin.TR': 'Trading and Market Microstructure',\n",
        "'quant-ph': 'Quantum Physics',\n",
        "'stat.AP': 'Applications',\n",
        "'stat.CO': 'Computation',\n",
        "'stat.ME': 'Methodology',\n",
        "'stat.ML': 'Machine Learning',\n",
        "'stat.OT': 'Other Statistics',\n",
        "'stat.TH': 'Statistics Theory'}\n",
        "\n",
        "data_file = '../input/arxiv/arxiv-metadata-oai-snapshot.json'\n",
        "\n",
        "def get_metadata():\n",
        "    with open(data_file, 'r') as f:\n",
        "        for line in f:\n",
        "            yield line\n",
        "            \n",
        "titles = []\n",
        "abstracts = []\n",
        "years = []\n",
        "categories = []\n",
        "metadata = get_metadata()\n",
        "for paper in metadata:\n",
        "    paper_dict = json.loads(paper)\n",
        "    ref = paper_dict.get('journal-ref')\n",
        "    try:\n",
        "        year = int(ref[-4:]) \n",
        "        if 2000 < year <= 2021:\n",
        "            categories.append(category_map[paper_dict.get('categories').split(\" \")[0]])\n",
        "            years.append(year)\n",
        "            titles.append(paper_dict.get('title'))\n",
        "            abstracts.append(paper_dict.get('abstract'))\n",
        "    except:\n",
        "        pass \n",
        "\n",
        "len(titles), len(abstracts), len(years), len(categories)"
      ],
      "metadata": {
        "_kg_hide-input": true,
        "_kg_hide-output": true,
        "papermill": {
          "duration": 59.165454,
          "end_time": "2021-06-04T14:15:06.889481",
          "exception": false,
          "start_time": "2021-06-04T14:14:07.724027",
          "status": "completed"
        },
        "tags": [],
        "execution": {
          "iopub.status.busy": "2021-06-07T05:29:52.366662Z",
          "iopub.execute_input": "2021-06-07T05:29:52.367007Z",
          "iopub.status.idle": "2021-06-07T05:30:55.132436Z",
          "shell.execute_reply.started": "2021-06-07T05:29:52.366972Z",
          "shell.execute_reply": "2021-06-07T05:30:55.131612Z"
        },
        "trusted": true,
        "id": "TPLY8nw0TKTr"
      },
      "execution_count": null,
      "outputs": []
    },
    {
      "cell_type": "code",
      "source": [
        "from bertopic import BERTopic\n",
        "\n",
        "topic_model = BERTopic(verbose=True, embedding_model=\"paraphrase-MiniLM-L12-v2\", min_topic_size=50)\n",
        "\n",
        "topics, _ = topic_model.fit_transform(abstracts); len(topic_model.get_topic_info())"
      ],
      "metadata": {
        "papermill": {
          "duration": 1.094017,
          "end_time": "2021-06-04T14:15:08.034528",
          "exception": false,
          "start_time": "2021-06-04T14:15:06.940511",
          "status": "completed"
        },
        "tags": [],
        "execution": {
          "iopub.status.busy": "2021-06-07T05:30:55.133789Z",
          "iopub.execute_input": "2021-06-07T05:30:55.134103Z",
          "iopub.status.idle": "2021-06-07T05:40:08.516498Z",
          "shell.execute_reply.started": "2021-06-07T05:30:55.134075Z",
          "shell.execute_reply": "2021-06-07T05:40:08.515627Z"
        },
        "trusted": true,
        "id": "65ixh1d1TKTu"
      },
      "execution_count": null,
      "outputs": []
    },
    {
      "cell_type": "code",
      "source": [
        "topic_model.get_topic_info().head(10)"
      ],
      "metadata": {
        "papermill": {
          "duration": 0.051976,
          "end_time": "2021-06-04T14:15:08.224784",
          "exception": false,
          "start_time": "2021-06-04T14:15:08.172808",
          "status": "completed"
        },
        "tags": [],
        "execution": {
          "iopub.status.busy": "2021-06-07T05:40:08.518700Z",
          "iopub.execute_input": "2021-06-07T05:40:08.519064Z",
          "iopub.status.idle": "2021-06-07T05:40:08.536458Z",
          "shell.execute_reply.started": "2021-06-07T05:40:08.519023Z",
          "shell.execute_reply": "2021-06-07T05:40:08.535662Z"
        },
        "trusted": true,
        "id": "e9B-E2OPTKTw"
      },
      "execution_count": null,
      "outputs": []
    },
    {
      "cell_type": "code",
      "source": [
        "topic_model.visualize_barchart(top_n_topics=9, height=700)"
      ],
      "metadata": {
        "papermill": {
          "duration": 0.054949,
          "end_time": "2021-06-04T14:15:08.309376",
          "exception": false,
          "start_time": "2021-06-04T14:15:08.254427",
          "status": "completed"
        },
        "tags": [],
        "execution": {
          "iopub.status.busy": "2021-06-07T05:40:08.538161Z",
          "iopub.execute_input": "2021-06-07T05:40:08.538806Z",
          "iopub.status.idle": "2021-06-07T05:40:09.440725Z",
          "shell.execute_reply.started": "2021-06-07T05:40:08.538768Z",
          "shell.execute_reply": "2021-06-07T05:40:09.439883Z"
        },
        "trusted": true,
        "id": "iMaSW2bJTKTw"
      },
      "execution_count": null,
      "outputs": []
    },
    {
      "cell_type": "code",
      "source": [
        "topic_model.visualize_term_rank()"
      ],
      "metadata": {
        "papermill": {
          "duration": 0.052513,
          "end_time": "2021-06-04T14:15:08.449349",
          "exception": false,
          "start_time": "2021-06-04T14:15:08.396836",
          "status": "completed"
        },
        "tags": [],
        "execution": {
          "iopub.status.busy": "2021-06-07T05:40:09.442050Z",
          "iopub.execute_input": "2021-06-07T05:40:09.442515Z",
          "iopub.status.idle": "2021-06-07T05:40:09.678210Z",
          "shell.execute_reply.started": "2021-06-07T05:40:09.442477Z",
          "shell.execute_reply": "2021-06-07T05:40:09.677344Z"
        },
        "trusted": true,
        "id": "dLKOHfEGTKTx"
      },
      "execution_count": null,
      "outputs": []
    },
    {
      "cell_type": "code",
      "source": [
        "topic_model.visualize_term_rank(log_scale=True)"
      ],
      "metadata": {
        "papermill": {
          "duration": 0.054177,
          "end_time": "2021-06-04T14:15:08.533275",
          "exception": false,
          "start_time": "2021-06-04T14:15:08.479098",
          "status": "completed"
        },
        "tags": [],
        "execution": {
          "iopub.status.busy": "2021-06-07T05:40:09.679317Z",
          "iopub.execute_input": "2021-06-07T05:40:09.679645Z",
          "iopub.status.idle": "2021-06-07T05:40:09.903101Z",
          "shell.execute_reply.started": "2021-06-07T05:40:09.679611Z",
          "shell.execute_reply": "2021-06-07T05:40:09.902127Z"
        },
        "trusted": true,
        "id": "4YjoT3jsTKTx"
      },
      "execution_count": null,
      "outputs": []
    },
    {
      "cell_type": "code",
      "source": [
        "topic_model.visualize_topics(top_n_topics=50)"
      ],
      "metadata": {
        "papermill": {
          "duration": 0.053316,
          "end_time": "2021-06-04T14:15:08.73918",
          "exception": false,
          "start_time": "2021-06-04T14:15:08.685864",
          "status": "completed"
        },
        "tags": [],
        "execution": {
          "iopub.status.busy": "2021-06-07T05:40:09.904482Z",
          "iopub.execute_input": "2021-06-07T05:40:09.904833Z",
          "iopub.status.idle": "2021-06-07T05:40:16.505305Z",
          "shell.execute_reply.started": "2021-06-07T05:40:09.904800Z",
          "shell.execute_reply": "2021-06-07T05:40:16.504532Z"
        },
        "trusted": true,
        "id": "L5ibHp5_TKTy"
      },
      "execution_count": null,
      "outputs": []
    },
    {
      "cell_type": "code",
      "source": [
        "topic_model.visualize_hierarchy(top_n_topics=50, width=800)"
      ],
      "metadata": {
        "papermill": {
          "duration": 0.054154,
          "end_time": "2021-06-04T14:15:08.886208",
          "exception": false,
          "start_time": "2021-06-04T14:15:08.832054",
          "status": "completed"
        },
        "tags": [],
        "execution": {
          "iopub.status.busy": "2021-06-07T06:05:02.488306Z",
          "iopub.execute_input": "2021-06-07T06:05:02.488689Z",
          "iopub.status.idle": "2021-06-07T06:05:02.559751Z",
          "shell.execute_reply.started": "2021-06-07T06:05:02.488654Z",
          "shell.execute_reply": "2021-06-07T06:05:02.558847Z"
        },
        "trusted": true,
        "id": "rnlmOXVeTKTz"
      },
      "execution_count": null,
      "outputs": []
    },
    {
      "cell_type": "code",
      "source": [
        "topic_model.visualize_heatmap(n_clusters=20, top_n_topics=100)"
      ],
      "metadata": {
        "papermill": {
          "duration": 0.034977,
          "end_time": "2021-06-04T14:15:08.952327",
          "exception": false,
          "start_time": "2021-06-04T14:15:08.91735",
          "status": "completed"
        },
        "tags": [],
        "execution": {
          "iopub.status.busy": "2021-06-07T05:40:16.584424Z",
          "iopub.execute_input": "2021-06-07T05:40:16.584898Z",
          "iopub.status.idle": "2021-06-07T05:40:16.782963Z",
          "shell.execute_reply.started": "2021-06-07T05:40:16.584861Z",
          "shell.execute_reply": "2021-06-07T05:40:16.782092Z"
        },
        "trusted": true,
        "id": "RV26IFEOTKTz"
      },
      "execution_count": null,
      "outputs": []
    },
    {
      "cell_type": "code",
      "source": [
        "topics_over_time = topic_model.topics_over_time(abstracts, topics, years)"
      ],
      "metadata": {
        "papermill": {
          "duration": 0.034851,
          "end_time": "2021-06-04T14:15:09.084567",
          "exception": false,
          "start_time": "2021-06-04T14:15:09.049716",
          "status": "completed"
        },
        "tags": [],
        "execution": {
          "iopub.status.busy": "2021-06-07T05:40:16.784269Z",
          "iopub.execute_input": "2021-06-07T05:40:16.784604Z",
          "iopub.status.idle": "2021-06-07T05:45:13.076244Z",
          "shell.execute_reply.started": "2021-06-07T05:40:16.784558Z",
          "shell.execute_reply": "2021-06-07T05:45:13.075267Z"
        },
        "trusted": true,
        "id": "Ma0nwcUtTKT0"
      },
      "execution_count": null,
      "outputs": []
    },
    {
      "cell_type": "code",
      "source": [
        "topic_model.visualize_topics_over_time(topics_over_time, top_n_topics=20, width=900, height=500)"
      ],
      "metadata": {
        "papermill": {
          "duration": 0.036001,
          "end_time": "2021-06-04T14:15:09.14047",
          "exception": false,
          "start_time": "2021-06-04T14:15:09.104469",
          "status": "completed"
        },
        "tags": [],
        "execution": {
          "iopub.status.busy": "2021-06-07T06:02:11.824998Z",
          "iopub.execute_input": "2021-06-07T06:02:11.825315Z",
          "iopub.status.idle": "2021-06-07T06:02:11.924790Z",
          "shell.execute_reply.started": "2021-06-07T06:02:11.825284Z",
          "shell.execute_reply": "2021-06-07T06:02:11.924013Z"
        },
        "trusted": true,
        "id": "RfS5FW5dTKT0"
      },
      "execution_count": null,
      "outputs": []
    },
    {
      "cell_type": "code",
      "source": [
        "topics_per_class = topic_model.topics_per_class(abstracts, topics, classes=categories)"
      ],
      "metadata": {
        "papermill": {
          "duration": 0.037546,
          "end_time": "2021-06-04T14:15:09.27999",
          "exception": false,
          "start_time": "2021-06-04T14:15:09.242444",
          "status": "completed"
        },
        "tags": [],
        "execution": {
          "iopub.status.busy": "2021-06-07T05:45:13.213791Z",
          "iopub.execute_input": "2021-06-07T05:45:13.214333Z",
          "iopub.status.idle": "2021-06-07T05:49:14.963479Z",
          "shell.execute_reply.started": "2021-06-07T05:45:13.214290Z",
          "shell.execute_reply": "2021-06-07T05:49:14.962489Z"
        },
        "trusted": true,
        "id": "GrG6kPnVTKT0"
      },
      "execution_count": null,
      "outputs": []
    },
    {
      "cell_type": "code",
      "source": [
        "topic_model.visualize_topics_per_class(topics_per_class, top_n_topics=10, width=900)"
      ],
      "metadata": {
        "papermill": {
          "duration": 0.036494,
          "end_time": "2021-06-04T14:15:09.337351",
          "exception": false,
          "start_time": "2021-06-04T14:15:09.300857",
          "status": "completed"
        },
        "tags": [],
        "execution": {
          "iopub.status.busy": "2021-06-07T06:02:47.308155Z",
          "iopub.execute_input": "2021-06-07T06:02:47.308492Z",
          "iopub.status.idle": "2021-06-07T06:02:47.396127Z",
          "shell.execute_reply.started": "2021-06-07T06:02:47.308460Z",
          "shell.execute_reply": "2021-06-07T06:02:47.395378Z"
        },
        "trusted": true,
        "id": "lJDjeMLQTKT0"
      },
      "execution_count": null,
      "outputs": []
    }
  ]
}